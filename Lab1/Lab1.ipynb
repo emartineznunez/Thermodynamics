{
  "metadata": {
    "orig_nbformat": 4,
    "kernelspec": {
      "name": "python3",
      "display_name": "Python 3 (ipykernel)",
      "language": "python"
    },
    "language_info": {
      "name": "python",
      "version": "3.7.10",
      "mimetype": "text/x-python",
      "codemirror_mode": {
        "name": "ipython",
        "version": 3
      },
      "pygments_lexer": "ipython3",
      "nbconvert_exporter": "python",
      "file_extension": ".py"
    },
    "colab": {
      "provenance": []
    }
  },
  "nbformat_minor": 0,
  "nbformat": 4,
  "cells": [
    {
      "cell_type": "markdown",
      "source": [
        "# Use this python notebook to analyze, understand, and interpret the results of your work in lab 1.<br>\n",
        "1. First of all, we import the needed Python libraries, read the file with the densities of water as a function of temperature, _ro.csv_ , and enter the working temperature. The density of water is linearly interpolated from the values in _ro.csv_ <br>\n",
        "__Q. Show the instructor how the linear interpolation is carried out__"
      ],
      "metadata": {
        "id": "e9DEg7VdBeOx"
      }
    },
    {
      "cell_type": "code",
      "source": [
        "#lab 1\n",
        "!curl -LJO https://github.com/emartineznunez/Thermodynamics/raw/main/Lab1/ro.csv\n",
        "!curl -LJO https://github.com/emartineznunez/Thermodynamics/raw/main/Lab1/masses.csv\n",
        "import numpy as np\n",
        "import pandas as pd\n",
        "from matplotlib import pyplot\n",
        "from scipy.optimize import curve_fit\n",
        "\n",
        "def polynomial(x,a,b,c):\n",
        "    return a + b * x + c * x * x\n",
        "\n",
        "def lin_interp(i,dec):\n",
        "    ii = int(i)\n",
        "    return ro[ii] + (ro[ii+1] - ro[ii]) * dec\n",
        "\n",
        "def Msol(x,MA,MB):\n",
        "    return (1 - x) * MA + x * MB\n",
        "\n",
        "def xB_a(m,mB,MA,MB):\n",
        "    return mB / MB / (mB / MB + (m - mB) / MA)\n",
        "\n",
        "#reading the ro vs temp file\n",
        "ro = pd.read_csv(\"ro.csv\",sep=',')\n",
        "ro = ro['density'].values\n",
        "\n",
        "#working temp\n",
        "t_work = float(input(\"Working temperature of your experiment (degrees Celsius) = \"))\n",
        "i,dec = divmod(t_work,1)\n",
        "#interpolated temperature is temp\n",
        "density = lin_interp(i,dec)\n",
        "print('Density of water (g/ml) at the working temperature = ', density)"
      ],
      "metadata": {
        "trusted": true,
        "id": "cO-u6osQBeOz"
      },
      "execution_count": null,
      "outputs": []
    },
    {
      "cell_type": "markdown",
      "source": [
        "2. We now proceed with the calibration of the pycnometer. Please change your masses accordingly"
      ],
      "metadata": {
        "id": "PdaTrpRuBeO1"
      }
    },
    {
      "cell_type": "code",
      "source": [
        "mass1 = 11.396\n",
        "mass2 = 11.400\n",
        "mass3 = 11.399\n",
        "#Average mass of water in the calibration\n",
        "mass = (mass1 + mass2 + mass3) / 3\n",
        "#Volume of pyctnometer\n",
        "Vpyc = mass / density\n",
        "print('\\nVolume of the pycnometer (ml) = ',Vpyc)"
      ],
      "metadata": {
        "trusted": true,
        "id": "9LXgzlk3BeO2"
      },
      "execution_count": null,
      "outputs": []
    },
    {
      "cell_type": "markdown",
      "source": [
        "3. Now we determine the approximate masses of each compound ($m_{A}'$ and $m_{B}'$) for a total approximate mass of the mixture $m_{mix}'=20$ g and 0.05 intervals for $x_{B}'$"
      ],
      "metadata": {
        "id": "eG8uoOcKBeO3"
      }
    },
    {
      "cell_type": "code",
      "source": [
        "mtotp = 20 # take a total mass of 20 g\n",
        "MB = float(input('Molar mass (g/mol) of component B (the organic compound) = '))\n",
        "MA = 18.01528 # molar mass of water\n",
        "#n = int(input(\"Number of solutions to be prepared = \"))\n",
        "n = 21\n",
        "print(\"\\nApproximate masses you need to weigh for each component of these solutions\")\n",
        "xBp = np.linspace(0,1,n,endpoint=True)\n",
        "xAp = 1 - xBp\n",
        "mBp = mtotp * xBp * MB / Msol(xBp,MA,MB)\n",
        "mAp = mtotp - mBp\n",
        "print('    xB\\' mA(g)\\' mB(g)\\'')\n",
        "for i in range(n):\n",
        "    print('%7.2f%7.3f%7.3f' % (xBp[i],mAp[i],mBp[i]))"
      ],
      "metadata": {
        "trusted": true,
        "id": "-zS09v63BeO3"
      },
      "execution_count": null,
      "outputs": []
    },
    {
      "cell_type": "markdown",
      "source": [
        "4. The weighted masses for each component $m_{A}$ and $m_{B}$ (they may vary from the above values with the prime), as well as the mass of each mixture (solution) inside the pycnometer $m_{mix,pyc}$ must be included in the excel file _masses.csv_ under the columns mA, mB and mpyc, respectively. From theses masses, $x_{B}$, the density of each mixture $d$ and its molar volume $V_{m}$ will be determined. Additionally, $V_{m}$ will be plotted as a function of $x_{B}$.<br>\n",
        "__Q. Show the instructor how $V_{m}$ is determined__"
      ],
      "metadata": {
        "id": "dSeDjExtBeO4"
      }
    },
    {
      "cell_type": "code",
      "source": [
        "m = pd.read_csv(\"masses.csv\",sep=',')\n",
        "mB = m['mB']\n",
        "mA = m['mA']\n",
        "mt = mA + mB\n",
        "mpyc  = m['mpyc']\n",
        "\n",
        "xB  =  xB_a(mt.values,mB.values,MA,MB)\n",
        "d   = mpyc.values / Vpyc\n",
        "Vm  = Msol(xB,MA,MB) / d\n",
        "\n",
        "print('        xB   d(g/ml) Vm(ml/mol)')\n",
        "for i in range(len(d)):\n",
        "    print('%10.4f%10.4f%11.4f' % (xB[i],d[i],Vm[i]))"
      ],
      "metadata": {
        "trusted": true,
        "id": "oOhIpa79BeO5"
      },
      "execution_count": null,
      "outputs": []
    },
    {
      "cell_type": "markdown",
      "source": [
        "5. We now fit $V_{m}$ to a quadratic polynomial:<br>\n",
        "$V_{m}=a+bx+cx^{2}$<br>\n",
        "__Q. What are the units of $a$, $b$ and $c$__<br>\n",
        "__Q. What is the RMS value given below?. What are the units of RMS?__"
      ],
      "metadata": {
        "id": "iOis6DsLBeO6"
      }
    },
    {
      "cell_type": "code",
      "source": [
        "#fit\n",
        "best_vals, covar = curve_fit(polynomial, xB, Vm)\n",
        "rms = 0\n",
        "for i, value in enumerate(xB):\n",
        "    rms += (polynomial(value,*best_vals) - Vm[i]) ** 2\n",
        "rms = np.sqrt ( rms / len(xB) )\n",
        "xx = np.linspace(0.,1.,num = 120)\n",
        "Vm_fit = polynomial(xx,*best_vals)\n",
        "print('\\nQuadratic polynomial that best fits our data:\\n')\n",
        "print(best_vals[0],'+',best_vals[1],'* x +',best_vals[2],'* x * x')\n",
        "print('\\nRMS of the fit = ',rms)\n",
        "\n",
        "pyplot.xticks(np.arange(0, 1.1, step=0.1))\n",
        "pyplot.xlim(-0.02,1.02)\n",
        "pyplot.plot(xB,Vm,'o',color='k',label='Data',mfc='none')\n",
        "pyplot.plot(xx,Vm_fit,'-',color='k',label='Fit')\n",
        "pyplot.legend()\n",
        "pyplot.ylabel(\"Vm (ml/mol)\")\n",
        "pyplot.xlabel(\"xB\")\n",
        "print(xB)"
      ],
      "metadata": {
        "trusted": true,
        "id": "dirnDz3kBeO6"
      },
      "execution_count": null,
      "outputs": []
    },
    {
      "cell_type": "markdown",
      "source": [
        "6. Plotting now the partial molar volumes $\\bar{V}_{A}$ and $\\bar{V}_{B}$ and the change in molar volume on mixing $\\Delta V_{m,mix}=V_{m}-V_{m}^{*}$.<br>\n",
        "__Q. Discuss the shape of the plots with the instructor__"
      ],
      "metadata": {
        "id": "uhUFnGKBBeO7"
      }
    },
    {
      "cell_type": "code",
      "source": [
        "slope = best_vals[1] + 2 * best_vals[2] * xx\n",
        "VA_star = polynomial(0,*best_vals)\n",
        "VB_star = polynomial(1,*best_vals)\n",
        "Vm_star = VA_star * (1 - xx) + VB_star * xx\n",
        "deltaV = Vm_fit - Vm_star\n",
        "VA = Vm_fit - slope * xx\n",
        "VB = VA + slope\n",
        "pyplot.xticks(np.arange(0, 1.1, step=0.1))\n",
        "pyplot.xlim(-0.02,1.02)\n",
        "pyplot.plot(xx,VA,'-',color='b',label='VA')\n",
        "pyplot.plot(xx,VB,'-',color='r',label='VB')\n",
        "pyplot.legend()\n",
        "pyplot.ylabel(\"Partial molar volumes (ml/mol)\")\n",
        "pyplot.xlabel(\"xB\")\n",
        "pyplot.show()\n",
        "\n",
        "pyplot.xticks(np.arange(0, 1.1, step=0.1))\n",
        "pyplot.xlim(-0.02,1.02)\n",
        "pyplot.plot(xx,deltaV,'-',color='k',label='deltaV_m')\n",
        "pyplot.legend()\n",
        "pyplot.ylabel(\"DeltaVm (ml/mol)\")\n",
        "pyplot.xlabel(\"xB\")\n",
        "pyplot.show()"
      ],
      "metadata": {
        "trusted": true,
        "id": "D3GC6UWPBeO7"
      },
      "execution_count": null,
      "outputs": []
    },
    {
      "cell_type": "markdown",
      "source": [
        "7. Obtain $\\bar{V}_{A}$, $\\bar{V}_{B}$ and $\\Delta V_{m,mix}$ only for the $x_{B}$ values of your mixtures"
      ],
      "metadata": {
        "id": "XmsRTIyDBeO8"
      }
    },
    {
      "cell_type": "code",
      "source": [
        "xx = xB\n",
        "Vm_fit = polynomial(xx,*best_vals)\n",
        "slope = best_vals[1] + 2 * best_vals[2] * xx\n",
        "VA_star = polynomial(0,*best_vals)\n",
        "VB_star = polynomial(1,*best_vals)\n",
        "Vm_star = VA_star * (1 - xx) + VB_star * xx\n",
        "deltaV = Vm_fit - Vm_star\n",
        "VA = Vm_fit - slope * xx\n",
        "VB = VA + slope\n",
        "print('xB=',xx)\n",
        "print('VA=',VA)\n",
        "print('VB=',VB)\n",
        "print('deltaV=',deltaV)"
      ],
      "metadata": {
        "trusted": true,
        "id": "4nxD8ZiWBeO8"
      },
      "execution_count": null,
      "outputs": []
    },
    {
      "cell_type": "markdown",
      "source": [
        "8. Now, you have to complete the report and hand it over to the instructor before leaving the lab"
      ],
      "metadata": {
        "id": "b6T6yZBtBeO8"
      }
    }
  ]
}