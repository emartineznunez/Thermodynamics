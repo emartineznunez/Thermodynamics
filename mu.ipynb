{
  "nbformat": 4,
  "nbformat_minor": 0,
  "metadata": {
    "colab": {
      "provenance": [],
      "include_colab_link": true
    },
    "kernelspec": {
      "name": "python3",
      "display_name": "Python 3"
    },
    "language_info": {
      "name": "python"
    }
  },
  "cells": [
    {
      "cell_type": "markdown",
      "metadata": {
        "id": "view-in-github",
        "colab_type": "text"
      },
      "source": [
        "<a href=\"https://colab.research.google.com/github/emartineznunez/Thermodynamics/blob/main/mu.ipynb\" target=\"_parent\"><img src=\"https://colab.research.google.com/assets/colab-badge.svg\" alt=\"Open In Colab\"/></a>"
      ]
    },
    {
      "cell_type": "code",
      "source": [
        "#@title _This cell installs several packages needed in the Notebook. It takes less than 2 min_\n",
        "%%capture\n",
        "! sudo apt update\n",
        "! sudo apt install cm-super dvipng texlive-latex-extra texlive-latex-recommended"
      ],
      "metadata": {
        "id": "dU-O59gI344_"
      },
      "execution_count": null,
      "outputs": []
    },
    {
      "cell_type": "markdown",
      "source": [
        "### **Calculation of $\\mu^0(T)$**\n",
        "The calculation of $\\mu(T,p)$ involves the determination of $\\mu^0(T)$. In this section, we are going to see how to obtain an  approximate value. The chemical potential for a pure substance is just the molar Gibbs energy:\n",
        "\\begin{equation}\n",
        "    \\mu^0=G_m^0=H_m^0-TS_m^0 \\tag{1}\n",
        "\\end{equation}\n",
        "For an ideal gas the standard enthalpy is given by:\n",
        "\\begin{equation}\n",
        "    H_m^0=H_m^0(T_{ref})+C_{p,m}^0(T-T_{ref}) \\tag{2}\n",
        "\\end{equation}\n",
        "where $H_m^0(T_{ref})$ is the standard enthalpy at a reference temperature $T_{ref}$. Besides, the standard molar entropy is:\n",
        "\\begin{equation}\n",
        "    S_m^0=S_m^0(T_{ref})+C_{p,m}^0\\ln\\frac{T}{T_{ref}} \\tag{3}\n",
        "\\end{equation}\n",
        "For a diatomic molecule is just:\n",
        "\\begin{equation}\n",
        "    C_{p,m}^0=\\frac{7}{2}R \\tag{4}\n",
        "\\end{equation}\n",
        "\n",
        "Combining the above equations, we get to the following approximate result for $\\mu^0$:\n",
        "\\begin{equation}\n",
        " \\mu^0(T)= H_m^0(T_{ref})+\\frac{7}{2}RT\\left(1-\\ln \\frac{T}{T_{ref}}\\right)-TS_m^0(T_{ref})-\\frac{7}{2}RT_{ref}  \\tag{5}\n",
        "\\end{equation}\n"
      ],
      "metadata": {
        "id": "7BHhi6ViGcEn"
      }
    },
    {
      "cell_type": "code",
      "source": [
        "import numpy as np\n",
        "import matplotlib.pyplot as plt\n",
        "\n",
        "def mu_0(H0,S0,T):\n",
        "  theta = T / 298.15\n",
        "  return H0 + 7 / 2 *  R * T * ( 1 - np.log(theta)) - T * S0 - 7 / 2 * R * 298.15\n",
        "\n",
        "R  = 8.31447e-3          # Gas constant in kJ/(K mol)\n",
        "H0 = 0.0\n",
        "S0 = 100                 # S0 = 100 J / mol / K\n",
        "\n",
        "plt.rcParams['text.usetex'] = True\n",
        "\n",
        "T = np.linspace(200,400,1000)\n",
        "plt.plot(T,mu_0(H0,S0,T)/1000,color='black',label='$\\mu^0$')\n",
        "plt.xticks(fontsize=16)\n",
        "plt.yticks(fontsize=16)\n",
        "plt.ylabel('$\\mu^0(T) (\\mathrm{kJ/mol})$',fontsize=20)\n",
        "plt.xlabel('$T (\\mathrm{K})$',fontsize=20)\n",
        "plt.legend()\n",
        "plt.savefig(\"mu.svg\",bbox_inches='tight')\n",
        "\n",
        "plt.show()"
      ],
      "metadata": {
        "id": "IhASiTzp1Qnp"
      },
      "execution_count": null,
      "outputs": []
    }
  ]
}