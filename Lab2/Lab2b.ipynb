{
  "metadata": {
    "kernelspec": {
      "name": "python3",
      "display_name": "Python 3 (ipykernel)",
      "language": "python"
    },
    "language_info": {
      "name": "python",
      "version": "3.7.12",
      "mimetype": "text/x-python",
      "codemirror_mode": {
        "name": "ipython",
        "version": 3
      },
      "pygments_lexer": "ipython3",
      "nbconvert_exporter": "python",
      "file_extension": ".py"
    },
    "colab": {
      "provenance": []
    }
  },
  "nbformat_minor": 0,
  "nbformat": 4,
  "cells": [
    {
      "cell_type": "markdown",
      "source": [
        "# Use this python notebook to analyze, understand, and interpret the results of your work in lab 2b.<br>\n",
        "1. First of all, we import the needed Python libraries, and read the file _cooling_curves.csv_<br>\n",
        "\n",
        "Make sure your data are separated by commas in the csv file. Otherwise, change the delimiter when reading _cooling_curves.csv_"
      ],
      "metadata": {
        "id": "WDy0ZDIVEJOM"
      }
    },
    {
      "cell_type": "code",
      "source": [
        "%%capture\n",
        "#lab 2b\n",
        "!curl -LJO https://github.com/emartineznunez/Thermodynamics/raw/main/Lab2/cooling_curves.csv\n",
        "import pandas as pd\n",
        "import numpy as np\n",
        "from matplotlib import pyplot\n",
        "import matplotlib.ticker as tck\n",
        "from scipy.optimize import curve_fit\n",
        "from scipy import stats\n",
        "import warnings\n",
        "\n",
        "warnings.filterwarnings(\"ignore\")\n",
        "\n",
        "def quadratic(x,a,b,c):\n",
        "    return a + b * x + c * x * x\n",
        "\n",
        "temp = pd.read_csv(\"cooling_curves.csv\",sep=',')\n",
        "print(temp)\n",
        "n_samples = int (len(temp.columns) / 2)\n",
        "print(\"Number of samples = \",n_samples)"
      ],
      "metadata": {
        "trusted": true,
        "id": "bz1Kj4TIEJON"
      },
      "execution_count": null,
      "outputs": []
    },
    {
      "cell_type": "markdown",
      "source": [
        "2. We now plot all cooling curves. From the curves, the solidification temperature of each sample must be obtained."
      ],
      "metadata": {
        "id": "Xb3PEXWIEJOO"
      }
    },
    {
      "cell_type": "code",
      "source": [
        "from google.colab import output\n",
        "output.enable_custom_widget_manager()\n",
        "#mtime=int(input('Maximum time of the measurement (min) = '))\n",
        "for j in range(n_samples):\n",
        "#    pyplot.xticks(np.arange(0, mtime, step=2))\n",
        "#    pyplot.xlim(0,mtime)\n",
        "    i = j + 1\n",
        "    time=temp['Sample'+str(i)+'_time'].values\n",
        "    temperature=temp['Sample'+str(i)+'_temp'].values\n",
        "    pyplot.plot(time,temperature,'-',color='k',label='Cooling curve of sample'+str(i))\n",
        "    pyplot.plot(time,temperature,'o',color='k')\n",
        "    pyplot.legend()\n",
        "    pyplot.ylabel(\"temperature (ºC)\")\n",
        "    pyplot.xlabel(\"time (min)\")\n",
        "    #pyplot.axes().yaxis.set_minor_locator(tck.AutoMinorLocator())\n",
        "    pyplot.grid(color='k', linestyle='--', linewidth=1, which='both')\n",
        "pyplot.show()"
      ],
      "metadata": {
        "trusted": true,
        "id": "VA2HEx2iEJOP"
      },
      "execution_count": null,
      "outputs": []
    },
    {
      "cell_type": "markdown",
      "source": [
        "3. Once the solidification temperatures have been obtained, they have to be included in the file _SL_phase_diagram.csv_, which is read in the next lines of code to plot the SL phase diagram. We also fit the points on the left and right to two quadratic polynomials."
      ],
      "metadata": {
        "id": "je-AdibHEJOP"
      }
    },
    {
      "cell_type": "code",
      "source": [
        "%matplotlib widget\n",
        "stemp = pd.read_csv(\"SL_phase_diagram.csv\",sep=',')\n",
        "print(stemp)\n",
        "x=stemp['x'].values\n",
        "temp=stemp['temp'].values\n",
        "l = int(input('How many points on the left-hand side of the diagram form a group of points to fit ='))\n",
        "r = int(input('How many points on the right-hand side of the diagram form a group of points to fit ='))\n",
        "r = len(x) - r\n",
        "xf = x[:r]\n",
        "yf = temp[:r]\n",
        "xf2 = x[r:]\n",
        "yf2 = temp[r:]\n",
        "best_vals, covar = curve_fit(quadratic, xf, yf)\n",
        "best_vals2, covar2 = curve_fit(quadratic, xf2, yf2)\n",
        "\n",
        "xx = np.linspace(0, 1, num=100, endpoint=True)\n",
        "fit = quadratic(xx,*best_vals)\n",
        "fit2 = quadratic(xx,*best_vals2)\n",
        "coeff=[best_vals[2] - best_vals2[2], best_vals[1] - best_vals2[1], best_vals[0] - best_vals2[0]]\n",
        "print('Coordinates (x and temp) where the blue and red curves cross:')\n",
        "for ele in np.roots(coeff):\n",
        "    imag=ele.imag\n",
        "    real=ele.real\n",
        "    if real >= 0 and real <= 1 and imag==0:\n",
        "        print('x = ',real,'temp = ',quadratic(ele,*best_vals).real,'ºC')\n",
        "\n",
        "maxt=max(temp) + 10\n",
        "mint=min(temp) - 20\n",
        "pyplot.plot(x,temp,'o',color='k')\n",
        "pyplot.plot(xx,fit,'-',color='r')\n",
        "pyplot.plot(xx,fit2,'-',color='b')\n",
        "#pyplot.axes().xaxis.set_minor_locator(tck.AutoMinorLocator())\n",
        "pyplot.xlabel(\"x_biphenyl\")\n",
        "pyplot.ylabel(\"temperature (ºC)\")\n",
        "pyplot.xlim(0,1)\n",
        "pyplot.ylim(mint,maxt)\n",
        "pyplot.grid(color='k', linestyle='--', linewidth=1, which='both')\n",
        "pyplot.show()"
      ],
      "metadata": {
        "id": "P76lx029EJOP"
      },
      "execution_count": null,
      "outputs": []
    },
    {
      "cell_type": "markdown",
      "source": [
        "4. Now the very first points from $x_{\\mathrm{A}}=1$ and $x_{\\mathrm{B}}=1$ are fit to:<br>\n",
        "$lnx_{\\mathrm{A}}=\\frac{-\\Delta H_{\\mathrm{fus,A}}}{R}\\left(\\frac{1}{T}-\\frac{1}{T_{\\mathrm{A}}^*} \\right)$<br>\n",
        "and<br>\n",
        "$lnx_{\\mathrm{B}}=\\frac{-\\Delta H_{\\mathrm{fus,B}}}{R}\\left(\\frac{1}{T}-\\frac{1}{T_{\\mathrm{B}}^*} \\right)$<br>\n",
        "In the limit of an ideal dilute solution (for $x_{i}\\rightarrow 1$) prove that the first equation leads to:<br>\n",
        "$\\Delta T=T-T_{\\mathrm{A}}^{*}=-\\frac {R(T_{\\mathrm{A}}^{*})^{2}M_{\\mathrm{A}}}{\\Delta H_{\\mathrm{fus,A}}}m_{\\mathrm{B}}$<br>\n",
        "where $M_{\\mathrm{A}}$ is the molecular mass of A in kg/mol, and $m_{\\mathrm{B}}$ is the molality of B in mol/Kg<br>\n",
        "Use different number of points in the fit and see how the results change.<br>\n",
        "In the code below, the heats of fusion of naphthalene and biphenyl are determined using the above fits<br>\n",
        "__Make a plot with the points and fits in each case and compare with the experimental values__"
      ],
      "metadata": {
        "id": "Z9W1cqHzEJOQ"
      }
    },
    {
      "cell_type": "code",
      "source": [
        "%matplotlib widget\n",
        "#Naphthalene\n",
        "npf=int(input(\"How many points do you want to use in the fit for naphthalene?: \"))\n",
        "xx = 1 / ( temp[:npf] + 273.15 )\n",
        "yy = np.log(1 - x[:npf])\n",
        "R = 8.314472 / 1000 # kJ/mol/K\n",
        "slope, intercept, r_value, p_value, std_err = stats.linregress(xx,yy)\n",
        "print('DeltaH,fus (naphthalene) = ', - slope * R,'kJ/mol')\n",
        "\n",
        "fit = intercept + slope * xx\n",
        "pyplot.plot(xx,yy,'o',color='k')\n",
        "pyplot.plot(xx,fit,'-',color='k')\n",
        "pyplot.xlabel(\"1/T\")\n",
        "pyplot.ylabel(\"ln(x)\")\n",
        "#Biphenyl\n",
        "npf=int(input(\"How many points do you want to use in the fit for biphenyl?: \"))\n",
        "n = len(x) - npf\n",
        "xx = 1 / ( temp[n:] + 273.15 )\n",
        "yy = np.log(x[n:])\n",
        "R = 8.314472 / 1000 # kJ/mol/K\n",
        "slope2, intercept2, r_value, p_value, std_err = stats.linregress(xx,yy)\n",
        "print('DeltaH,fus (biphenyl) = ', - slope2 * R,'kJ/mol')\n",
        "\n",
        "fit = intercept2 + slope2 * xx\n",
        "pyplot.plot(xx,yy,'o',color='r')\n",
        "pyplot.plot(xx,fit,'-',color='r')\n",
        "pyplot.show()"
      ],
      "metadata": {
        "id": "IpMC7SbUEJOQ"
      },
      "execution_count": null,
      "outputs": []
    },
    {
      "cell_type": "markdown",
      "source": [
        "#### 5. Obtain the solidification temperature of the pure substances from the above fits"
      ],
      "metadata": {
        "id": "bTH4IKuTEJOR"
      }
    },
    {
      "cell_type": "code",
      "source": [
        "print(\"Solidification temperature naphtalene=\",quadratic(0,*best_vals))\n",
        "print(\"Solidification temperature biphenyl=\",quadratic(1,*best_vals2))\n"
      ],
      "metadata": {
        "id": "aY5l1AHaEJOR"
      },
      "execution_count": null,
      "outputs": []
    },
    {
      "cell_type": "markdown",
      "source": [
        "#### 6. Obtain the entropies of fusion of the pure substances from the above fits. Compare with the available experimental values (Google: Heat of fusion of XX)"
      ],
      "metadata": {
        "id": "gEJfzgLYEJOR"
      }
    },
    {
      "cell_type": "code",
      "source": [],
      "metadata": {
        "id": "YT1xOPDPEJOR"
      },
      "execution_count": null,
      "outputs": []
    }
  ]
}