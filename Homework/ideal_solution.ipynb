{
 "cells": [
  {
   "cell_type": "markdown",
   "metadata": {},
   "source": [
    "Run the following code to plot $x_{A}^{v}$ vs $x_{A}^{l}$ for an ideal solution"
   ]
  },
  {
   "cell_type": "code",
   "execution_count": null,
   "metadata": {},
   "outputs": [],
   "source": [
    "import numpy as np\n",
    "from matplotlib import pyplot\n",
    "\n",
    "def x_v(x_l):\n",
    "    return x_l * pA / pB / (1 + x_l * (pA / pB -1))\n",
    "\n",
    "pA=float(input('Vapor pressure of pure A: '))\n",
    "pB=float(input('Vapor pressure of pure B: '))\n",
    "\n",
    "%matplotlib inline\n",
    "x_l = np.linspace(0,1,num = 120)\n",
    "pyplot.xticks(np.arange(0, 1, step=0.2))\n",
    "pyplot.xlim(left=0)\n",
    "pyplot.xlim(right=1)\n",
    "pyplot.plot(x_l,x_v(x_l),'-',color='b')\n",
    "pyplot.ylabel(\"x_v (A)\")\n",
    "pyplot.xlabel(\"x_l (A)\")"
   ]
  },
  {
   "cell_type": "code",
   "execution_count": null,
   "metadata": {},
   "outputs": [],
   "source": []
  }
 ],
 "metadata": {
  "kernelspec": {
   "display_name": "Python 3",
   "language": "python",
   "name": "python3"
  },
  "language_info": {
   "codemirror_mode": {
    "name": "ipython",
    "version": 3
   },
   "file_extension": ".py",
   "mimetype": "text/x-python",
   "name": "python",
   "nbconvert_exporter": "python",
   "pygments_lexer": "ipython3",
   "version": "3.7.3"
  }
 },
 "nbformat": 4,
 "nbformat_minor": 4
}
