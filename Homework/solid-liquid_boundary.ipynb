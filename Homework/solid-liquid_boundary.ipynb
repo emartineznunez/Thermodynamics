{
 "cells": [
  {
   "cell_type": "markdown",
   "metadata": {},
   "source": [
    "Run the code below to plot the solid-liquid phase boundary for water"
   ]
  },
  {
   "cell_type": "code",
   "execution_count": 2,
   "metadata": {},
   "outputs": [
    {
     "data": {
      "text/plain": [
       "Text(0.5, 0, 'T (K)')"
      ]
     },
     "execution_count": 2,
     "metadata": {},
     "output_type": "execute_result"
    },
    {
     "data": {
      "image/png": "[encoded data removed]",
      "text/plain": [
       "<Figure size 432x288 with 1 Axes>"
      ]
     },
     "metadata": {
      "needs_background": "light"
     },
     "output_type": "display_data"
    }
   ],
   "source": [
    "import numpy as np\n",
    "from matplotlib import pyplot\n",
    "\n",
    "deltaH = 6012 # J/mol\n",
    "deltaV = -0.168 # J/(atm)\n",
    "T = np.linspace(270,273,num = 120)\n",
    "p = 1 + deltaH/deltaV * np.log(T/273)\n",
    "pyplot.xticks(np.arange(200, 300, step=25))\n",
    "pyplot.xlim(left=250)\n",
    "pyplot.xlim(right=300)\n",
    "pyplot.plot(T,p,'-',color='k')\n",
    "pyplot.ylabel(\"p (atm)\")\n",
    "pyplot.xlabel(\"T (K)\")"
   ]
  },
  {
   "cell_type": "code",
   "execution_count": null,
   "metadata": {},
   "outputs": [],
   "source": []
  }
 ],
 "metadata": {
  "kernelspec": {
   "display_name": "Python 3",
   "language": "python",
   "name": "python3"
  },
  "language_info": {
   "codemirror_mode": {
    "name": "ipython",
    "version": 3
   },
   "file_extension": ".py",
   "mimetype": "text/x-python",
   "name": "python",
   "nbconvert_exporter": "python",
   "pygments_lexer": "ipython3",
   "version": "3.7.3"
  }
 },
 "nbformat": 4,
 "nbformat_minor": 4
}
