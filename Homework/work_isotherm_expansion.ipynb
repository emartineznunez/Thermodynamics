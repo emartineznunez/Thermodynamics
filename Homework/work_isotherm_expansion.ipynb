{
 "cells": [
  {
   "cell_type": "markdown",
   "metadata": {},
   "source": [
    "Let's calculate the work done in an isothermal expansion of an ideal gas"
   ]
  },
  {
   "cell_type": "code",
   "execution_count": null,
   "metadata": {},
   "outputs": [],
   "source": [
    "import numpy as np\n",
    "from matplotlib import pyplot\n",
    "\n",
    "def p_isotherm(T,V):\n",
    "    return n * R * T / V\n",
    "\n",
    "def numer_integral(Vi,Vf,m):\n",
    "# h is the step size\n",
    "    h = (Vf - Vi) / m\n",
    "    suma=0\n",
    "    for k in range(1,m):\n",
    "        V = Vi + k * h\n",
    "        suma += p_isotherm(T,V)        \n",
    "    return h * (( Vi * p_isotherm(T,Vi) + Vf * p_isotherm(T,Vf)) / 2 + suma)\n",
    "\n",
    "R = 0.082 # atm * l / mol / K\n",
    "n = 1 # mole\n",
    "Vi = float(input('Initial volume (L): '))\n",
    "Vf = float(input('Final volume (L): '))\n",
    "T = float(input('Temperature (K): '))\n",
    "m = int(input('Number of steps for the integration: '))\n",
    "    \n",
    "exact_integral = - n * R * T * np.log( Vf / Vi )    \n",
    "print(\"Work (S.I. units, numerical value)=\",-numer_integral(Vi,Vf,m)) \n",
    "print(\"Work (S.I. units, exact value)\",exact_integral) \n",
    "step=max(1,int((Vf-Vi)/10))\n",
    "\n",
    "V = np.linspace(Vi,Vf,num = 120)\n",
    "%matplotlib inline\n",
    "pyplot.xticks(np.arange(Vi, Vf, step=step))\n",
    "pyplot.xlim(left=Vi)\n",
    "pyplot.xlim(right=Vf)\n",
    "pyplot.plot(V,p_isotherm(T,V),'-',color='b')\n",
    "pyplot.ylabel(\"p (atm)\", style='italic')\n",
    "pyplot.xlabel(\"V (l)\", style='italic')"
   ]
  },
  {
   "cell_type": "code",
   "execution_count": null,
   "metadata": {},
   "outputs": [],
   "source": []
  }
 ],
 "metadata": {
  "kernelspec": {
   "display_name": "Python 3",
   "language": "python",
   "name": "python3"
  },
  "language_info": {
   "codemirror_mode": {
    "name": "ipython",
    "version": 3
   },
   "file_extension": ".py",
   "mimetype": "text/x-python",
   "name": "python",
   "nbconvert_exporter": "python",
   "pygments_lexer": "ipython3",
   "version": "3.7.3"
  }
 },
 "nbformat": 4,
 "nbformat_minor": 4
}
