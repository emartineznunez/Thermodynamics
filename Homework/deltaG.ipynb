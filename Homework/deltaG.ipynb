{
 "cells": [
  {
   "cell_type": "markdown",
   "metadata": {},
   "source": [
    "Run the code below to plot $\\Delta{G}_{mix}$"
   ]
  },
  {
   "cell_type": "code",
   "execution_count": null,
   "metadata": {},
   "outputs": [],
   "source": [
    "import numpy as np\n",
    "from matplotlib import pyplot\n",
    "\n",
    "T = 300 # K\n",
    "R = 8.314472  # J/(K mol)\n",
    "xA = np.linspace(0.00001,0.99999,num = 120)\n",
    "xB = 1 - xA\n",
    "deltaG_mix = R*T * (xA * np.log(xA) + xB * np.log(xB))\n",
    "pyplot.xticks(np.arange(0, 1.1, step=0.1))\n",
    "pyplot.plot(xA,deltaG_mix,'-',color='k')\n",
    "pyplot.ylabel(\"DeltaG_mix (J/mol)\")\n",
    "pyplot.xlabel(\"xA\")"
   ]
  },
  {
   "cell_type": "code",
   "execution_count": null,
   "metadata": {},
   "outputs": [],
   "source": []
  }
 ],
 "metadata": {
  "kernelspec": {
   "display_name": "Python 3",
   "language": "python",
   "name": "python3"
  },
  "language_info": {
   "codemirror_mode": {
    "name": "ipython",
    "version": 3
   },
   "file_extension": ".py",
   "mimetype": "text/x-python",
   "name": "python",
   "nbconvert_exporter": "python",
   "pygments_lexer": "ipython3",
   "version": "3.7.3"
  }
 },
 "nbformat": 4,
 "nbformat_minor": 4
}
